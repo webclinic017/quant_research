{
 "cells": [
  {
   "cell_type": "markdown",
   "id": "eaf936dc",
   "metadata": {},
   "source": [
    "分析结果：\n",
    "```\n",
    "    测试和优化方案：\n",
    "    测试周期：  2013.1~2023.1（10年）\n",
    "    测试窗口    2年、3年、5年\n",
    "    滚动窗口    3个月滚动一次，每年4个滚动\n",
    "    测试数量：  8x4+7x4+5x4= 32+28+20 = 80个测试（ 剩余年数 * 年移动4次）\n",
    "```"
   ]
  },
  {
   "cell_type": "code",
   "execution_count": 8,
   "id": "9c2e062c",
   "metadata": {},
   "outputs": [
    {
     "name": "stdout",
     "output_type": "stream",
     "text": [
      "一共测试了1082个场景\n",
      "平均年化：0.10397951808967394\n",
      "年化方差：0.09609814655934908\n",
      "最大年化：0.3443369554939981\n",
      "最小年化：-0.0520231564029495\n",
      "负收益比例：0.1044362292051756\n",
      "强于基金比例：0.6876155268022182\n",
      "比基金差的情况：\n",
      "        基金代码      投资起始      投资结束      组合年化      组合收益      基准收益      基金收益\n",
      "0     510330  20130104  20141231  0.119213  0.252637  0.420592  0.435250\n",
      "1     510500  20130104  20141231  0.119213  0.252637  0.420592  0.491800\n",
      "2     159915  20130104  20141231  0.119213  0.252637  0.420592  1.022107\n",
      "10    510330  20130104  20151231  0.145397  0.502687  0.554323  0.560685\n",
      "11    510500  20130104  20151231  0.145397  0.502687  0.554323  1.201300\n",
      "...      ...       ...       ...       ...       ...       ...       ...\n",
      "1060  512760  20171009  20220930  0.106458  0.658341 -0.103719  0.861200\n",
      "1061  159928  20171009  20220930  0.106458  0.658341 -0.103719  1.059803\n",
      "1074  512690  20180102  20221231  0.113930  0.715102 -0.042223  1.404000\n",
      "1077  512760  20180102  20221231  0.113930  0.715102 -0.042223  0.868200\n",
      "1078  159928  20180102  20221231  0.113930  0.715102 -0.042223  0.775845\n",
      "\n",
      "[338 rows x 7 columns]\n",
      "年化为负的情况：\n",
      "       基金代码      投资起始      投资结束      组合年化      组合收益      基准收益      基金收益\n",
      "88   510330  20150702  20180630 -0.016291 -0.048081 -0.272275 -0.076834\n",
      "89   510500  20150702  20180630 -0.016291 -0.048081 -0.272275 -0.297834\n",
      "90   159915  20150702  20180630 -0.016291 -0.048081 -0.272275 -0.386578\n",
      "91   512880  20150702  20180630 -0.016291 -0.048081 -0.272275 -0.248800\n",
      "92   512200  20150702  20180630 -0.016291 -0.048081 -0.272275 -0.204600\n",
      "..      ...       ...       ...       ...       ...       ...       ...\n",
      "778  512800  20140102  20181231 -0.015753 -0.076321  0.182285 -0.110293\n",
      "779  510810  20140102  20181231 -0.015753 -0.076321  0.182285 -0.202900\n",
      "780  512980  20140102  20181231 -0.015753 -0.076321  0.182285 -0.344900\n",
      "781  159928  20140102  20181231 -0.015753 -0.076321  0.182285  0.844600\n",
      "782  512580  20140102  20181231 -0.015753 -0.076321  0.182285 -0.350300\n",
      "\n",
      "[113 rows x 7 columns]\n"
     ]
    }
   ],
   "source": [
    "import pandas as pd\n",
    "\n",
    "# df = pd.read_csv(\"../debug/510310,510500,159915,588090_20130101_20230101_2,3,5_3.csv\")\n",
    "#df = pd.read_csv(\"../debug/510500_20130101_20230101_2,3,5_3.csv\")\n",
    "df = pd.read_csv(\"../debug/510330,510500,159915,588090,512880,512200,512660,512010,512800,512690,510810,512980,512760,159928,515000,516160,512580_20130101_20230101_2,3,5_3.csv\")\n",
    "df1 = df[[\"基金代码\", \"投资起始\", \"投资结束\", \"组合年化\",\"组合收益\",\"基准收益\", \"基金收益\"]]\n",
    "plus = df1[df['组合收益']>0]\n",
    "minus = df1[df['组合收益']<0]\n",
    "good = df1[df['组合收益']>df['基金收益']]\n",
    "bad = df1[df['组合收益']<df['基金收益']]\n",
    "\n",
    "print(f\"一共测试了{len(df1)}个场景\")\n",
    "print(f\"平均年化：{df['组合年化'].mean()}\")\n",
    "print(f\"年化方差：{df['组合年化'].std()}\")\n",
    "print(f\"最大年化：{df['组合年化'].max()}\")\n",
    "print(f\"最小年化：{df['组合年化'].min()}\")\n",
    "print(f\"负收益比例：{len(minus)/len(df1)}\")\n",
    "print(f\"强于基金比例：{len(good)/len(df1)}\")\n",
    "print(\"比基金差的情况：\")\n",
    "print(bad)\n",
    "print(\"年化为负的情况：\")\n",
    "print(minus)\n"
   ]
  },
  {
   "cell_type": "code",
   "execution_count": 9,
   "id": "68b41e83",
   "metadata": {},
   "outputs": [
    {
     "data": {
      "text/plain": [
       "(array([ 12.,  36.,  53.,  24.,  24.,  89., 101.,  64.,  69.,  76.,  16.,\n",
       "         48., 119.,  49.,   5.,  42.,   0.,  42.,  22.,   0.,   5.,  37.,\n",
       "         22.,  34.,  39.,   5.,   0.,  17.,  16.,  16.]),\n",
       " array([-0.05202316, -0.03881115, -0.02559915, -0.01238715,  0.00082486,\n",
       "         0.01403686,  0.02724887,  0.04046087,  0.05367287,  0.06688488,\n",
       "         0.08009688,  0.09330888,  0.10652089,  0.11973289,  0.1329449 ,\n",
       "         0.1461569 ,  0.1593689 ,  0.17258091,  0.18579291,  0.19900491,\n",
       "         0.21221692,  0.22542892,  0.23864093,  0.25185293,  0.26506493,\n",
       "         0.27827694,  0.29148894,  0.30470094,  0.31791295,  0.33112495,\n",
       "         0.34433696]),\n",
       " <a list of 30 Patch objects>)"
      ]
     },
     "execution_count": 9,
     "metadata": {},
     "output_type": "execute_result"
    },
    {
     "name": "stderr",
     "output_type": "stream",
     "text": [
      "/data/software/py3/lib/python3.10/site-packages/matplotlib/backends/backend_agg.py:214: RuntimeWarning: Glyph 8722 missing from current font.\n",
      "  font.set_text(s, 0.0, flags=flags)\n",
      "/data/software/py3/lib/python3.10/site-packages/matplotlib/backends/backend_agg.py:183: RuntimeWarning: Glyph 8722 missing from current font.\n",
      "  font.set_text(s, 0, flags=flags)\n"
     ]
    },
    {
     "data": {
      "image/png": "[encoded data removed]",
      "text/plain": [
       "<Figure size 432x288 with 1 Axes>"
      ]
     },
     "metadata": {
      "needs_background": "light"
     },
     "output_type": "display_data"
    }
   ],
   "source": [
    "import matplotlib.pyplot as plt\n",
    "plt.hist(df1['组合年化'],bins=30)"
   ]
  },
  {
   "cell_type": "code",
   "execution_count": null,
   "id": "0abd7468",
   "metadata": {},
   "outputs": [],
   "source": []
  }
 ],
 "metadata": {
  "kernelspec": {
   "display_name": "Python 3 (ipykernel)",
   "language": "python",
   "name": "python3"
  },
  "language_info": {
   "codemirror_mode": {
    "name": "ipython",
    "version": 3
   },
   "file_extension": ".py",
   "mimetype": "text/x-python",
   "name": "python",
   "nbconvert_exporter": "python",
   "pygments_lexer": "ipython3",
   "version": "3.10.6"
  },
  "toc": {
   "base_numbering": 1,
   "nav_menu": {},
   "number_sections": true,
   "sideBar": true,
   "skip_h1_title": false,
   "title_cell": "Table of Contents",
   "title_sidebar": "Contents",
   "toc_cell": false,
   "toc_position": {},
   "toc_section_display": true,
   "toc_window_display": false
  }
 },
 "nbformat": 4,
 "nbformat_minor": 5
}
