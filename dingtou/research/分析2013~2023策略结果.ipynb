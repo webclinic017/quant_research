{
 "cells": [
  {
   "cell_type": "markdown",
   "id": "eaf936dc",
   "metadata": {},
   "source": [
    "分析结果：\n",
    "```\n",
    "    测试和优化方案：\n",
    "    测试周期：  2013.1~2023.1（10年）\n",
    "    测试窗口    2年、3年、5年\n",
    "    滚动窗口    3个月滚动一次，每年4个滚动\n",
    "    测试数量：  8x4+7x4+5x4= 32+28+20 = 80个测试（ 剩余年数 * 年移动4次）\n",
    "```"
   ]
  },
  {
   "cell_type": "code",
   "execution_count": 11,
   "id": "9c2e062c",
   "metadata": {},
   "outputs": [
    {
     "name": "stdout",
     "output_type": "stream",
     "text": [
      "一共测试了227个场景\n",
      "平均年化：0.11131080758332963\n",
      "年化方差：0.10735807252846995\n",
      "最大年化：0.4240757879845462\n",
      "最小年化：-0.0580243578537572\n",
      "负收益比例：0.11894273127753303\n",
      "强于基金比例：0.748898678414097\n",
      "比基金差的情况：\n",
      "       基金代码      投资起始      投资结束      组合年化      组合收益      基准收益      基金收益\n",
      "0    510310  20160104  20171231  0.008116  0.016298  0.003311  0.208263\n",
      "4    510500  20200102  20211231  0.168919  0.366371  0.179754  0.421718\n",
      "5    159915  20200102  20211231  0.168919  0.366371  0.179754  0.825859\n",
      "10   510310  20130402  20180330  0.021237  0.110789  0.422472  0.708858\n",
      "11   510500  20130402  20180330  0.021237  0.110789  0.422472  0.883944\n",
      "12   159915  20130402  20180330  0.021237  0.110789  0.422472  1.125078\n",
      "13   510310  20160405  20180330  0.053940  0.110789  0.037940  0.242736\n",
      "16   510310  20140702  20170630  0.013472  0.040962  0.550160  0.773646\n",
      "17   510500  20140702  20170630  0.013472  0.040962  0.550160  0.620356\n",
      "18   159915  20140702  20170630  0.013472  0.040962  0.550160  0.261411\n",
      "19   510310  20161010  20190930  0.038804  0.120988 -0.046899  0.229790\n",
      "24   159915  20181008  20200930  0.352234  0.828536  0.184627  0.926900\n",
      "37   510310  20140702  20190630  0.021036  0.109702  0.446466  0.925620\n",
      "38   510500  20140702  20190630  0.021036  0.109702  0.446466  0.337123\n",
      "47   510310  20141008  20170929  0.028157  0.086873  0.405469  0.625884\n",
      "48   510500  20141008  20170929  0.028157  0.086873  0.405469  0.389142\n",
      "49   159915  20141008  20170929  0.028157  0.086873  0.405469  0.188366\n",
      "53   510310  20160704  20180630 -0.012421 -0.024687 -0.047241  0.139945\n",
      "64   510310  20151008  20170929  0.042532  0.086873  0.065403  0.215631\n",
      "69   159915  20190102  20201231  0.424076  1.027992  0.408787  1.432222\n",
      "71   510310  20130702  20180630 -0.004987 -0.024687  0.419055  0.714530\n",
      "72   510500  20130702  20180630 -0.004987 -0.024687  0.419055  0.645497\n",
      "73   159915  20130702  20180630 -0.004987 -0.024687  0.419055  0.410292\n",
      "74   510310  20170103  20191231  0.069065  0.221835 -0.027359  0.299943\n",
      "77   510310  20151008  20180928 -0.021438 -0.062946 -0.102440  0.109713\n",
      "80   510310  20150105  20171231  0.005403  0.016298 -0.012937  0.161507\n",
      "81   510500  20150105  20171231  0.005403  0.016298 -0.012937  0.216601\n",
      "82   159915  20150105  20171231  0.005403  0.016298 -0.012937  0.181433\n",
      "87   510310  20141008  20190930  0.023105  0.120988  0.219236  0.682529\n",
      "92   159915  20190702  20220630  0.191760  0.692649  0.116518  0.804421\n",
      "112  510310  20161010  20180928 -0.031985 -0.062946 -0.074404  0.084843\n",
      "115  510310  20160104  20181231 -0.039067 -0.112682 -0.243416 -0.076342\n",
      "120  159915  20191008  20220930  0.123672  0.418792  0.038036  0.428427\n",
      "132  510310  20150105  20191231  0.040884  0.221835 -0.089656  0.231636\n",
      "137  159915  20190702  20210630  0.277397  0.631742  0.179785  1.227320\n",
      "139  510310  20160405  20190329  0.072893  0.235005  0.012346  0.258878\n",
      "144  159915  20180702  20210630  0.275324  1.074252  0.293865  1.234800\n",
      "147  510500  20200102  20221221  0.042823  0.134049  0.039463  0.224172\n",
      "148  159915  20200102  20221221  0.042823  0.134049  0.039463  0.263885\n",
      "150  510310  20131008  20180928 -0.012919 -0.062946  0.283483  0.532429\n",
      "151  510500  20131008  20180928 -0.012919 -0.062946  0.283483  0.296940\n",
      "152  159915  20131008  20180928 -0.012919 -0.062946  0.283483 -0.012940\n",
      "153  510310  20170103  20181231 -0.058024 -0.112682 -0.204733 -0.062840\n",
      "160  510500  20191008  20210930  0.179077  0.390222  0.224672  0.494255\n",
      "161  159915  20191008  20210930  0.179077  0.390222  0.224672  1.021090\n",
      "170  510310  20130104  20171231  0.003238  0.016298  0.452430  0.710900\n",
      "171  510500  20130104  20171231  0.003238  0.016298  0.452430  0.846800\n",
      "172  159915  20130104  20171231  0.003238  0.016298  0.452430  1.378041\n",
      "177  510310  20160704  20190630  0.035306  0.109702 -0.003254  0.271102\n",
      "183  510310  20140102  20181231 -0.023627 -0.112682  0.182285  0.417470\n",
      "184  510500  20140102  20181231 -0.023627 -0.112682  0.182285  0.161575\n",
      "185  159915  20140102  20181231 -0.023627 -0.112682  0.182285 -0.081562\n",
      "188  159915  20181008  20210930  0.294928  1.171385  0.313511  1.436570\n",
      "197  510310  20140402  20190329  0.043119  0.235005  0.501105  0.936814\n",
      "198  510500  20140402  20190329  0.043119  0.235005  0.501105  0.526654\n",
      "199  159915  20140402  20190329  0.043119  0.235005  0.501105  0.251028\n",
      "206  159915  20190102  20211231  0.279297  1.093699  0.476408  1.732296\n",
      "年化为负的情况：\n",
      "       基金代码      投资起始      投资结束      组合年化      组合收益      基准收益      基金收益\n",
      "26   510310  20150702  20180630 -0.008298 -0.024687 -0.272275 -0.097643\n",
      "27   510500  20150702  20180630 -0.008298 -0.024687 -0.272275 -0.297834\n",
      "28   159915  20150702  20180630 -0.008298 -0.024687 -0.272275 -0.386578\n",
      "53   510310  20160704  20180630 -0.012421 -0.024687 -0.047241  0.139945\n",
      "54   510500  20160704  20180630 -0.012421 -0.024687 -0.047241 -0.152036\n",
      "55   159915  20160704  20180630 -0.012421 -0.024687 -0.047241 -0.292654\n",
      "71   510310  20130702  20180630 -0.004987 -0.024687  0.419055  0.714530\n",
      "72   510500  20130702  20180630 -0.004987 -0.024687  0.419055  0.645497\n",
      "73   159915  20130702  20180630 -0.004987 -0.024687  0.419055  0.410292\n",
      "77   510310  20151008  20180928 -0.021438 -0.062946 -0.102440  0.109713\n",
      "78   510500  20151008  20180928 -0.021438 -0.062946 -0.102440 -0.217330\n",
      "79   159915  20151008  20180928 -0.021438 -0.062946 -0.102440 -0.348622\n",
      "112  510310  20161010  20180928 -0.031985 -0.062946 -0.074404  0.084843\n",
      "113  510500  20161010  20180928 -0.031985 -0.062946 -0.074404 -0.243172\n",
      "114  159915  20161010  20180928 -0.031985 -0.062946 -0.074404 -0.364394\n",
      "115  510310  20160104  20181231 -0.039067 -0.112682 -0.243416 -0.076342\n",
      "116  510500  20160104  20181231 -0.039067 -0.112682 -0.243416 -0.380282\n",
      "117  159915  20160104  20181231 -0.039067 -0.112682 -0.243416 -0.488590\n",
      "150  510310  20131008  20180928 -0.012919 -0.062946  0.283483  0.532429\n",
      "151  510500  20131008  20180928 -0.012919 -0.062946  0.283483  0.296940\n",
      "152  159915  20131008  20180928 -0.012919 -0.062946  0.283483 -0.012940\n",
      "153  510310  20170103  20181231 -0.058024 -0.112682 -0.204733 -0.062840\n",
      "154  510500  20170103  20181231 -0.058024 -0.112682 -0.204733 -0.325333\n",
      "155  159915  20170103  20181231 -0.058024 -0.112682 -0.204733 -0.362772\n",
      "183  510310  20140102  20181231 -0.023627 -0.112682  0.182285  0.417470\n",
      "184  510500  20140102  20181231 -0.023627 -0.112682  0.182285  0.161575\n",
      "185  159915  20140102  20181231 -0.023627 -0.112682  0.182285 -0.081562\n"
     ]
    }
   ],
   "source": [
    "import pandas as pd\n",
    "\n",
    "df = pd.read_csv(\"../debug/510310,510500,159915,588090_20130101_20230101_2,3,5_3.csv\")\n",
    "#df = pd.read_csv(\"../debug/510500_20130101_20230101_2,3,5_3.csv\")\n",
    "df1 = df[[\"基金代码\", \"投资起始\", \"投资结束\", \"组合年化\",\"组合收益\",\"基准收益\", \"基金收益\"]]\n",
    "plus = df1[df['组合收益']>0]\n",
    "minus = df1[df['组合收益']<0]\n",
    "good = df1[df['组合收益']>df['基金收益']]\n",
    "bad = df1[df['组合收益']<df['基金收益']]\n",
    "\n",
    "print(f\"一共测试了{len(df1)}个场景\")\n",
    "print(f\"平均年化：{df['组合年化'].mean()}\")\n",
    "print(f\"年化方差：{df['组合年化'].std()}\")\n",
    "print(f\"最大年化：{df['组合年化'].max()}\")\n",
    "print(f\"最小年化：{df['组合年化'].min()}\")\n",
    "print(f\"负收益比例：{len(minus)/len(df1)}\")\n",
    "print(f\"强于基金比例：{len(good)/len(df1)}\")\n",
    "print(\"比基金差的情况：\")\n",
    "print(bad)\n",
    "print(\"年化为负的情况：\")\n",
    "print(minus)\n"
   ]
  },
  {
   "cell_type": "code",
   "execution_count": 12,
   "id": "68b41e83",
   "metadata": {},
   "outputs": [
    {
     "data": {
      "text/plain": [
       "(array([ 3.,  6., 12., 12., 19., 12., 32.,  6.,  3., 10., 14., 24., 12.,\n",
       "         3., 12.,  4.,  4.,  8.,  0.,  0., 15.,  4.,  0.,  0.,  0.,  8.,\n",
       "         0.,  0.,  0.,  4.]),\n",
       " array([-0.05802436, -0.04195435, -0.02588435, -0.00981434,  0.00625566,\n",
       "         0.02232567,  0.03839567,  0.05446568,  0.07053568,  0.08660569,\n",
       "         0.10267569,  0.1187457 ,  0.1348157 ,  0.15088571,  0.16695571,\n",
       "         0.18302572,  0.19909572,  0.21516572,  0.23123573,  0.24730573,\n",
       "         0.26337574,  0.27944574,  0.29551575,  0.31158575,  0.32765576,\n",
       "         0.34372576,  0.35979577,  0.37586577,  0.39193578,  0.40800578,\n",
       "         0.42407579]),\n",
       " <a list of 30 Patch objects>)"
      ]
     },
     "execution_count": 12,
     "metadata": {},
     "output_type": "execute_result"
    },
    {
     "data": {
      "image/png": "[encoded data removed]",
      "text/plain": [
       "<Figure size 432x288 with 1 Axes>"
      ]
     },
     "metadata": {
      "needs_background": "light"
     },
     "output_type": "display_data"
    }
   ],
   "source": [
    "import matplotlib.pyplot as plt\n",
    "plt.hist(df1['组合年化'],bins=30)"
   ]
  },
  {
   "cell_type": "code",
   "execution_count": null,
   "id": "0abd7468",
   "metadata": {},
   "outputs": [],
   "source": []
  }
 ],
 "metadata": {
  "kernelspec": {
   "display_name": "Python 3 (ipykernel)",
   "language": "python",
   "name": "python3"
  },
  "language_info": {
   "codemirror_mode": {
    "name": "ipython",
    "version": 3
   },
   "file_extension": ".py",
   "mimetype": "text/x-python",
   "name": "python",
   "nbconvert_exporter": "python",
   "pygments_lexer": "ipython3",
   "version": "3.10.6"
  },
  "toc": {
   "base_numbering": 1,
   "nav_menu": {},
   "number_sections": true,
   "sideBar": true,
   "skip_h1_title": false,
   "title_cell": "Table of Contents",
   "title_sidebar": "Contents",
   "toc_cell": false,
   "toc_position": {},
   "toc_section_display": true,
   "toc_window_display": false
  }
 },
 "nbformat": 4,
 "nbformat_minor": 5
}
