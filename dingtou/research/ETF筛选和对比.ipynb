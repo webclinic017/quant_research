{
 "cells": [
  {
   "cell_type": "markdown",
   "id": "46bee845",
   "metadata": {},
   "source": [
    "# 筛选对比所有的etf\n",
    "\n",
    "ETF是ExchangeTradedFund的英文缩写，为“交易型开放式指数基金”。 ETF可以在交易所进行买卖，并且可以随时进行申购赎回。\n",
    "\n",
    "开放式基金-历史数据\n",
    "接口: fund_open_fund_info_em\n",
    "https://akshare.akfamily.xyz/data/fund/fund_public.html#id6\n",
    "\n",
    "- etf、场内场外概念： https://www.bilibili.com/video/BV1QK4y1p7eH ， 场内是证券所个人对个人，场外是个人和基金公司，且门槛100万+\n",
    "- etf和etf连接的区别：https://www.bilibili.com/video/BV165411Y7sy ， etf场内是个人对个人，etf连接是个人和基金经理\n",
    "- 上证ETF列表：http://www.sse.com.cn/assortment/fund/etf/list/\n",
    "\n",
    "基金基本信息-指数型\n",
    "接口: fund_info_index_em\n",
    "目标地址: http://fund.eastmoney.com/trade/zs.html\n",
    "描述: 东方财富网-天天基金网-基金数据-基金基本信息-指数型"
   ]
  },
  {
   "cell_type": "markdown",
   "id": "8e7576bf",
   "metadata": {},
   "source": [
    "# AKShare"
   ]
  },
  {
   "cell_type": "code",
   "execution_count": 2,
   "id": "e19814f8",
   "metadata": {},
   "outputs": [],
   "source": [
    "import akshare as ak\n",
    "import pandas as pd\n",
    "import matplotlib\n",
    "import matplotlib.pyplot as plt\n",
    "import talib\n",
    "import numpy as np\n",
    "from matplotlib.font_manager import FontProperties\n",
    "import os\n",
    "import mplfinance as mpf \n",
    "import importlib\n",
    "import utils\n",
    "importlib.reload(utils)\n",
    "\n",
    "%matplotlib inline\n",
    "# 添加字体\n",
    "matplotlib.rcParams['axes.unicode_minus']=False # 如果不加入下面这一句，会导致负号无法显示\n",
    "plt.rcParams[\"font.sans-serif\"] = [\"SimHei\"]"
   ]
  },
  {
   "cell_type": "code",
   "execution_count": 33,
   "id": "6657faca",
   "metadata": {
    "scrolled": true
   },
   "outputs": [
    {
     "name": "stdout",
     "output_type": "stream",
     "text": [
      "           代码          名称    最新价    涨跌额    涨跌幅     买入     卖出     昨收     今开  \\\n",
      "0    sz159999  永赢中证500ETF  0.000  0.000  0.000  0.994  0.996  0.997  0.000   \n",
      "1    sz159998      计算机ETF  0.836 -0.002 -0.239  0.835  0.836  0.838  0.837   \n",
      "2    sz159997       电子ETF  0.880  0.004  0.457  0.879  0.880  0.876  0.877   \n",
      "3    sz159996       家电ETF  1.058  0.006  0.570  1.058  1.059  1.052  1.054   \n",
      "4    sz159995       芯片ETF  1.025  0.007  0.688  1.025  1.026  1.018  1.018   \n",
      "..        ...         ...    ...    ...    ...    ...    ...    ...    ...   \n",
      "753  sh510060       央企ETF  1.977 -0.010 -0.503  1.978  1.979  1.987  1.984   \n",
      "754  sh510050     上证50ETF  2.745 -0.005 -0.182  2.745  2.746  2.750  2.750   \n",
      "755  sh510030       价值ETF  0.782 -0.005 -0.635  0.780  0.781  0.787  0.787   \n",
      "756  sh510020      超大盘ETF  2.991 -0.005 -0.167  2.991  2.994  2.996  2.995   \n",
      "757  sh510010    180治理ETF  1.400  0.000  0.000  1.385  1.397  1.400  1.400   \n",
      "\n",
      "        最高     最低        成交量        成交额  \n",
      "0    0.000  0.000          0          0  \n",
      "1    0.838  0.826   10062685    8369682  \n",
      "2    0.888  0.872   25219900   22195728  \n",
      "3    1.061  1.049   46839100   49583222  \n",
      "4    1.040  1.016  404631746  416477547  \n",
      "..     ...    ...        ...        ...  \n",
      "753  1.987  1.977     337500     669193  \n",
      "754  2.758  2.740  230973436  634732537  \n",
      "755  0.787  0.779     534800     419018  \n",
      "756  3.002  2.990     258701     774286  \n",
      "757  1.400  1.400        300        420  \n",
      "\n",
      "[758 rows x 13 columns]\n"
     ]
    }
   ],
   "source": [
    "import akshare as ak\n",
    "\n",
    "# 指数基金数据\n",
    "# df = ak.fund_info_index_em(symbol=\"全部\", indicator=\"被动指数型\")\n",
    "# print(df)\n",
    "\n",
    "# 758只\n",
    "df= ak.fund_etf_category_sina(symbol=\"ETF基金\") # 作者：鱼获全放流 https://www.bilibili.com/read/cv16641303 出处：bilibili\n",
    "\n",
    "print(df)"
   ]
  },
  {
   "cell_type": "code",
   "execution_count": 36,
   "id": "09efb56b",
   "metadata": {},
   "outputs": [
    {
     "data": {
      "text/plain": [
       "287"
      ]
     },
     "execution_count": 36,
     "metadata": {},
     "output_type": "execute_result"
    }
   ],
   "source": [
    "len(df[df['代码'].str.contains('sz')]) # 深市的"
   ]
  },
  {
   "cell_type": "code",
   "execution_count": 4,
   "id": "4cf9b045",
   "metadata": {},
   "outputs": [
    {
     "name": "stdout",
     "output_type": "stream",
     "text": [
      "Index(['代码', '名称', '最新价', '涨跌额', '涨跌幅', '买入', '卖出', '昨收', '今开', '最高', '最低',\n",
      "       '成交量', '成交额'],\n",
      "      dtype='object')\n"
     ]
    }
   ],
   "source": [
    "print(df.columns)\n",
    "# http://www.sse.com.cn/assortment/fund/etf/list/\n",
    "# [510,512,515,516,517,560,561,562,563,588] # 刨除511债券，513跨境，518商品，\n",
    "fund_list = [510,512,515,516,517,560,561,562,563,588] # 这些是靠谱的ETF前缀\n",
    "fund_list = [str(f) for f in fund_list] \n",
    "df1 = df[df['代码'].str.contains(\"|\".join(fund_list))]\n",
    "# print(len(df1))\n",
    "s = df1['代码'].str[2:]+\".SH\"\n",
    "df2= df1.copy()\n",
    "df2['代码'] = s\n",
    "df2[['代码','名称']].to_csv(\"etf_list.csv\",index=False)"
   ]
  },
  {
   "cell_type": "code",
   "execution_count": 40,
   "id": "84b1ceae",
   "metadata": {},
   "outputs": [
    {
     "name": "stdout",
     "output_type": "stream",
     "text": [
      "/Users /Users/piginzoo/workspaces/quant_research/dingtou\n"
     ]
    },
    {
     "name": "stderr",
     "output_type": "stream",
     "text": [
      "\n",
      "  0%|             | 0/379 [00:00<?, ?it/s]\u001b[A\n",
      "  8%|▏  | 30/379 [00:00<00:01, 294.78it/s]\u001b[A\n",
      " 18%|▌  | 68/379 [00:00<00:00, 343.79it/s]\u001b[A\n",
      " 27%|▌ | 103/379 [00:00<00:00, 345.75it/s]\u001b[A\n",
      " 37%|▋ | 140/379 [00:00<00:00, 350.28it/s]\u001b[A\n",
      " 46%|▉ | 176/379 [00:00<00:00, 353.39it/s]\u001b[A\n",
      " 56%|█ | 212/379 [00:00<00:00, 348.42it/s]\u001b[A\n",
      " 65%|█▎| 247/379 [00:00<00:00, 340.20it/s]\u001b[A\n",
      " 74%|█▍| 282/379 [00:00<00:00, 329.06it/s]\u001b[A\n",
      " 83%|█▋| 315/379 [00:00<00:00, 314.57it/s]\u001b[A\n",
      " 92%|█▊| 347/379 [00:01<00:00, 294.19it/s]\u001b[A\n",
      "100%|██| 379/379 [00:01<00:00, 308.61it/s]\u001b[A\n",
      "588460:科创50增强ETF , 上市时间20221201小于3年(0年/1月/9天)\n",
      "588370:科创50增强策略ETF , 上市时间20221201小于3年(0年/1月/9天)\n",
      "588350:双创50ETF基金 , 上市时间20221026小于3年(0年/2月/15天)\n",
      "588320:双创50增强ETF , 上市时间20221228小于3年(0年/0月/13天)\n",
      "588290:科创板芯片ETF , 上市时间20220930小于3年(0年/3月/11天)\n",
      "588260:科创信息ETF , 上市时间20220518小于3年(0年/7月/23天)\n",
      "588200:科创芯片ETF , 上市时间20220930小于3年(0年/3月/11天)\n",
      "588160:科创板新材料ETF , 上市时间20220930小于3年(0年/3月/11天)\n",
      "588100:科创信息技术ETF , 上市时间20220518小于3年(0年/7月/23天)\n",
      "588010:科创新材料ETF , 上市时间20220930小于3年(0年/3月/11天)\n",
      "562990:碳中和100ETF , 上市时间20220711小于3年(0年/5月/30天)\n",
      "562950:消费电子50ETF , 上市时间20220112小于3年(0年/11月/29天)\n",
      "562530:1000价值ETF , 上市时间20220728小于3年(0年/5月/13天)\n",
      "562520:1000成长ETF , 上市时间20220308小于3年(0年/10月/2天)\n",
      "562390:中药50ETF , 上市时间20220720小于3年(0年/5月/21天)\n",
      "562350:电力指数ETF , 上市时间20220630小于3年(0年/6月/11天)\n",
      "562310:沪深300成长ETF , 上市时间20220901小于3年(0年/4月/9天)\n",
      "562010:绿色能源ETF , 上市时间20221216小于3年(0年/0月/25天)\n",
      "562000:中证100ETF基金 , 上市时间20220721小于3年(0年/5月/20天)\n",
      "561710:疫苗生物ETF , 上市时间20221108小于3年(0年/2月/2天)\n",
      "561700:电力ETF基金 , 上市时间20220701小于3年(0年/6月/9天)\n",
      "561590:中证1000增强ETF , 上市时间20221123小于3年(0年/1月/18天)\n",
      "561560:电力ETF , 上市时间20220426小于3年(0年/8月/15天)\n",
      "561510:中医药ETF , 上市时间20220726小于3年(0年/5月/15天)\n",
      "561330:矿业ETF , 上市时间20221019小于3年(0年/2月/22天)\n",
      "561320:交运ETF , 上市时间20221130小于3年(0年/1月/11天)\n",
      "561190:双碳ETF , 上市时间20220711小于3年(0年/5月/30天)\n",
      "561180:A100ETF , 上市时间20221103小于3年(0年/2月/7天)\n",
      "561160:锂电池ETF , 上市时间20220630小于3年(0年/6月/11天)\n",
      "561120:家电ETF , 上市时间20220125小于3年(0年/11月/16天)\n",
      "561100:消费电子龙头ETF , 上市时间20220120小于3年(0年/11月/21天)\n",
      "560990:中金科技先锋ETF , 上市时间20220610小于3年(0年/7月/0天)\n",
      "560980:光伏ETF龙头 , 上市时间20221116小于3年(0年/1月/25天)\n",
      "560900:创新药企ETF , 上市时间20220519小于3年(0年/7月/22天)\n",
      "560880:家电ETF龙头 , 上市时间20220330小于3年(0年/9月/11天)\n",
      "560680:消费ETF龙头 , 上市时间20221019小于3年(0年/2月/22天)\n",
      "560650:核心50ETF , 上市时间20220613小于3年(0年/6月/28天)\n",
      "560600:医药创新ETF , 上市时间20220303小于3年(0年/10月/7天)\n",
      "560550:碳中和ETF环交所 , 上市时间20220711小于3年(0年/5月/30天)\n",
      "560110:中证1000ETF基金 , 上市时间20220729小于3年(0年/5月/12天)\n",
      "560100:中证500增强ETF , 上市时间20220126小于3年(0年/11月/15天)\n",
      "560080:中药ETF , 上市时间20220926小于3年(0年/3月/15天)\n",
      "560060:碳中和ETF , 上市时间20220713小于3年(0年/5月/28天)\n",
      "560010:中证1000ETF指数 , 上市时间20220728小于3年(0年/5月/13天)\n",
      "517990:医药ETF沪港深 , 上市时间20220509小于3年(0年/8月/1天)\n",
      "517900:银行ETF优选 , 上市时间20220315小于3年(0年/9月/26天)\n",
      "517850:张江ETF , 上市时间20220428小于3年(0年/8月/13天)\n",
      "517780:红300ETF , 上市时间20220308小于3年(0年/10月/2天)\n",
      "517760:消费TOPETF , 上市时间20220401小于3年(0年/9月/9天)\n",
      "517550:消费ETF沪港深 , 上市时间20220120小于3年(0年/11月/21天)\n",
      "517500:游戏沪港深ETF , 上市时间20220303小于3年(0年/10月/7天)\n"
     ]
    }
   ],
   "source": [
    "df3 = df2[['代码','名称']].rename(columns={'代码':'code','名称':'name'})\n",
    "\n",
    "df3[df3.name.str.contains('消')]\n",
    "\n",
    "import os, sys\n",
    "os.chdir(\"/Users/piginzoo/workspaces/quant_research/dingtou\")\n",
    "print(project_dir,os.path.abspath(\".\"))\n",
    "from dingtou.pyramid_v2 import research4\n",
    "importlib.reload(research4)\n",
    "data = research4.filter_data(years=1)"
   ]
  },
  {
   "cell_type": "code",
   "execution_count": 41,
   "id": "cb433900",
   "metadata": {},
   "outputs": [
    {
     "data": {
      "text/plain": [
       "328"
      ]
     },
     "execution_count": 41,
     "metadata": {},
     "output_type": "execute_result"
    }
   ],
   "source": [
    "len(data)"
   ]
  },
  {
   "cell_type": "code",
   "execution_count": 30,
   "id": "5aff36c7",
   "metadata": {},
   "outputs": [],
   "source": [
    "# 读一遍数据，只保留3年以上的数据\n",
    "import pandas as pd\n",
    "import datetime\n",
    "from dateutil.relativedelta import relativedelta\n",
    "df_etf = pd.DataFrame(columns=['code','name','years'])\n",
    "for k, df in data.items():\n",
    "    time_delta = relativedelta(datetime.datetime.now(), df.index[0])\n",
    "    code,name = k.split(\":\")\n",
    "    df = pd.DataFrame([[code,name,time_delta.years+(time_delta.months/12)]],\n",
    "                           columns=['code','name','years'])\n",
    "    df_etf = df_etf.append(df,ignore_index=True)\n",
    "df_etf.to_csv(\"research/etf_list_3years.csv\")"
   ]
  },
  {
   "cell_type": "code",
   "execution_count": 31,
   "id": "62fbd5e4",
   "metadata": {},
   "outputs": [
    {
     "data": {
      "text/html": [
       "<div>\n",
       "<style scoped>\n",
       "    .dataframe tbody tr th:only-of-type {\n",
       "        vertical-align: middle;\n",
       "    }\n",
       "\n",
       "    .dataframe tbody tr th {\n",
       "        vertical-align: top;\n",
       "    }\n",
       "\n",
       "    .dataframe thead th {\n",
       "        text-align: right;\n",
       "    }\n",
       "</style>\n",
       "<table border=\"1\" class=\"dataframe\">\n",
       "  <thead>\n",
       "    <tr style=\"text-align: right;\">\n",
       "      <th></th>\n",
       "      <th>code</th>\n",
       "      <th>name</th>\n",
       "      <th>years</th>\n",
       "    </tr>\n",
       "  </thead>\n",
       "  <tbody>\n",
       "    <tr>\n",
       "      <th>0</th>\n",
       "      <td>515990</td>\n",
       "      <td>国企一带一路ETF</td>\n",
       "      <td>3.166667</td>\n",
       "    </tr>\n",
       "    <tr>\n",
       "      <th>1</th>\n",
       "      <td>515980</td>\n",
       "      <td>人工智能ETF</td>\n",
       "      <td>3.000000</td>\n",
       "    </tr>\n",
       "    <tr>\n",
       "      <th>2</th>\n",
       "      <td>515900</td>\n",
       "      <td>央企创新驱动ETF</td>\n",
       "      <td>3.250000</td>\n",
       "    </tr>\n",
       "    <tr>\n",
       "      <th>3</th>\n",
       "      <td>515880</td>\n",
       "      <td>通信ETF</td>\n",
       "      <td>3.333333</td>\n",
       "    </tr>\n",
       "    <tr>\n",
       "      <th>4</th>\n",
       "      <td>515870</td>\n",
       "      <td>先进制造ETF</td>\n",
       "      <td>3.083333</td>\n",
       "    </tr>\n",
       "    <tr>\n",
       "      <th>...</th>\n",
       "      <td>...</td>\n",
       "      <td>...</td>\n",
       "      <td>...</td>\n",
       "    </tr>\n",
       "    <tr>\n",
       "      <th>137</th>\n",
       "      <td>510060</td>\n",
       "      <td>央企ETF</td>\n",
       "      <td>13.333333</td>\n",
       "    </tr>\n",
       "    <tr>\n",
       "      <th>138</th>\n",
       "      <td>510050</td>\n",
       "      <td>上证50ETF</td>\n",
       "      <td>18.000000</td>\n",
       "    </tr>\n",
       "    <tr>\n",
       "      <th>139</th>\n",
       "      <td>510030</td>\n",
       "      <td>价值ETF</td>\n",
       "      <td>12.666667</td>\n",
       "    </tr>\n",
       "    <tr>\n",
       "      <th>140</th>\n",
       "      <td>510020</td>\n",
       "      <td>超大盘ETF</td>\n",
       "      <td>13.000000</td>\n",
       "    </tr>\n",
       "    <tr>\n",
       "      <th>141</th>\n",
       "      <td>510010</td>\n",
       "      <td>180治理ETF</td>\n",
       "      <td>13.250000</td>\n",
       "    </tr>\n",
       "  </tbody>\n",
       "</table>\n",
       "<p>142 rows × 3 columns</p>\n",
       "</div>"
      ],
      "text/plain": [
       "       code       name      years\n",
       "0    515990  国企一带一路ETF   3.166667\n",
       "1    515980    人工智能ETF   3.000000\n",
       "2    515900  央企创新驱动ETF   3.250000\n",
       "3    515880      通信ETF   3.333333\n",
       "4    515870    先进制造ETF   3.083333\n",
       "..      ...        ...        ...\n",
       "137  510060      央企ETF  13.333333\n",
       "138  510050    上证50ETF  18.000000\n",
       "139  510030      价值ETF  12.666667\n",
       "140  510020     超大盘ETF  13.000000\n",
       "141  510010   180治理ETF  13.250000\n",
       "\n",
       "[142 rows x 3 columns]"
      ]
     },
     "execution_count": 31,
     "metadata": {},
     "output_type": "execute_result"
    }
   ],
   "source": [
    "df_etf"
   ]
  }
 ],
 "metadata": {
  "kernelspec": {
   "display_name": "Python 3 (ipykernel)",
   "language": "python",
   "name": "python3"
  },
  "language_info": {
   "codemirror_mode": {
    "name": "ipython",
    "version": 3
   },
   "file_extension": ".py",
   "mimetype": "text/x-python",
   "name": "python",
   "nbconvert_exporter": "python",
   "pygments_lexer": "ipython3",
   "version": "3.9.13"
  },
  "toc": {
   "base_numbering": 1,
   "nav_menu": {},
   "number_sections": true,
   "sideBar": true,
   "skip_h1_title": false,
   "title_cell": "Table of Contents",
   "title_sidebar": "Contents",
   "toc_cell": false,
   "toc_position": {},
   "toc_section_display": true,
   "toc_window_display": true
  }
 },
 "nbformat": 4,
 "nbformat_minor": 5
}
