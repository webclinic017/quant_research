{
 "cells": [
  {
   "cell_type": "markdown",
   "id": "d5b9d2e3",
   "metadata": {},
   "source": [
    "# 股票估值模型\n",
    "\n",
    "探讨股票估值模型"
   ]
  },
  {
   "cell_type": "code",
   "execution_count": null,
   "id": "86df0364",
   "metadata": {},
   "outputs": [],
   "source": [
    "rate=0.035 # 折现率\n",
    "years= 50 # 永续经营N年\n",
    "roe=0.1  # 税后利率增长率\n",
    "\n"
   ]
  }
 ],
 "metadata": {
  "kernelspec": {
   "display_name": "Python 3 (ipykernel)",
   "language": "python",
   "name": "python3"
  },
  "language_info": {
   "codemirror_mode": {
    "name": "ipython",
    "version": 3
   },
   "file_extension": ".py",
   "mimetype": "text/x-python",
   "name": "python",
   "nbconvert_exporter": "python",
   "pygments_lexer": "ipython3",
   "version": "3.9.13"
  },
  "toc": {
   "base_numbering": 1,
   "nav_menu": {},
   "number_sections": true,
   "sideBar": true,
   "skip_h1_title": false,
   "title_cell": "Table of Contents",
   "title_sidebar": "Contents",
   "toc_cell": false,
   "toc_position": {},
   "toc_section_display": true,
   "toc_window_display": true
  }
 },
 "nbformat": 4,
 "nbformat_minor": 5
}
